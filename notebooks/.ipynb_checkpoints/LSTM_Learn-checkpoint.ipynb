{
 "cells": [
  {
   "cell_type": "code",
   "execution_count": 2,
   "metadata": {
    "collapsed": false
   },
   "outputs": [
    {
     "name": "stderr",
     "output_type": "stream",
     "text": [
      "Using Theano backend.\n"
     ]
    }
   ],
   "source": [
    "import pandas as pd\n",
    "import numpy as np\n",
    "import matplotlib.pyplot as plt\n",
    "import time\n",
    "%matplotlib inline\n",
    "from sklearn.preprocessing import StandardScaler\n",
    "from sklearn.preprocessing import MinMaxScaler\n",
    "from sklearn.ensemble import RandomForestRegressor\n",
    "from sklearn.ensemble import GradientBoostingRegressor\n",
    "from sklearn.grid_search import GridSearchCV\n",
    "from sklearn.cross_validation import train_test_split, KFold\n",
    "from sklearn import metrics\n",
    "import xgboost as xgb\n",
    "from fancyimpute import BiScaler, KNN, NuclearNormMinimization, SoftImpute, MatrixFactorization, MICE\n"
   ]
  },
  {
   "cell_type": "code",
   "execution_count": 3,
   "metadata": {
    "collapsed": false
   },
   "outputs": [],
   "source": [
    "train = pd.read_csv('../data/train.csv')\n",
    "test = pd.read_csv('../data/test.csv')"
   ]
  },
  {
   "cell_type": "code",
   "execution_count": 4,
   "metadata": {
    "collapsed": false
   },
   "outputs": [
    {
     "data": {
      "text/plain": [
       "ID                                  0\n",
       "Park_ID                             0\n",
       "Date                                0\n",
       "Direction_Of_Wind                3931\n",
       "Average_Breeze_Speed             3931\n",
       "Max_Breeze_Speed                 3936\n",
       "Min_Breeze_Speed                 3934\n",
       "Var1                             8282\n",
       "Average_Atmospheric_Pressure    40195\n",
       "Max_Atmospheric_Pressure        40195\n",
       "Min_Atmospheric_Pressure        40195\n",
       "Min_Ambient_Pollution           31645\n",
       "Max_Ambient_Pollution           31645\n",
       "Average_Moisture_In_Park           40\n",
       "Max_Moisture_In_Park               40\n",
       "Min_Moisture_In_Park               40\n",
       "Location_Type                       0\n",
       "Footfall                            0\n",
       "dtype: int64"
      ]
     },
     "execution_count": 4,
     "metadata": {},
     "output_type": "execute_result"
    }
   ],
   "source": [
    "train.isnull().sum()"
   ]
  },
  {
   "cell_type": "code",
   "execution_count": 5,
   "metadata": {
    "collapsed": false
   },
   "outputs": [],
   "source": [
    "def transform_data(data):\n",
    "    data['Date'] = pd.to_datetime(data['Date'])\n",
    "    data['Month'] = data['Date'].dt.month\n",
    "    #data['Year'] = data['Date'].dt.year\n",
    "    data['Day'] = data['Date'].dt.day\n",
    "    # data['WeekOfYear'] = data['Date'].dt.weekofyear\n",
    "    # data['DayOfYear'] = data['Date'].dt.dayofyear + 1\n",
    "    data['WeekDay'] = data['Date'].dt.weekday\n",
    "    \n",
    "    # Average Ambient Pollution bhi nikal lo\n",
    "    data['Diff_Breeze_Speed'] = data['Max_Breeze_Speed'] - data['Min_Breeze_Speed']\n",
    "    data['Diff_Atmospheric_Pressure'] = data['Max_Atmospheric_Pressure'] - data['Min_Atmospheric_Pressure']\n",
    "    data['Diff_Ambient_Pollution'] = data['Max_Ambient_Pollution'] - data['Min_Ambient_Pollution']\n",
    "    data['Average_Ambient_Pollution'] = (data['Max_Ambient_Pollution'] + data['Min_Ambient_Pollution'])/2\n",
    "    data['Diff_Moisture_In_Park'] = data['Max_Moisture_In_Park'] - data['Min_Moisture_In_Park']\n",
    "    # data['Breeze_Speed'] = data['Diff_Breeze_Speed'] / data['Average_Breeze_Speed']\n",
    "    # data['Atm_Pressure'] = data['Diff_Atmospheric_Pressure'] / data['Average_Atmospheric_Pressure']\n",
    "    # data['Amb_Pollution'] = data['Diff_Ambient_Pollution'] / data['Average_Ambient_Pollution']\n",
    "    # data['Moisture_In_Park'] = data['Diff_Moisture_In_Park'] / data['Average_Moisture_In_Park']\n",
    "    #data = data.drop(labels=['Date', 'ID'], axis=1)\n",
    "    data = data.drop(labels=['Date', 'ID','Max_Ambient_Pollution','Max_Atmospheric_Pressure','Max_Breeze_Speed' ,'Max_Moisture_In_Park', 'Min_Moisture_In_Park','Min_Ambient_Pollution', 'Min_Atmospheric_Pressure', 'Min_Breeze_Speed' ], axis=1)\n",
    "    # data = data.drop(labels=['Diff_Breeze_Speed', 'Diff_Atmospheric_Pressure', 'Diff_Ambient_Pollution', 'Diff_Moisture_In_Park', 'Average_Moisture_In_Park', 'Average_Ambient_Pollution', 'Average_Atmospheric_Pressure', 'Average_Breeze_Speed'], axis =1)\n",
    "    # data['Year'] = data['Year'] - data['Year'].min()\n",
    "    columns = data.columns.values\n",
    "    # data.loc[data['Direction_Of_Wind'].isnull(), 'Direction_Of_Wind'] = np.round(np.random.uniform(0,360))\n",
    "    data['Direction_Of_Wind'].fillna(np.round(np.random.uniform(0,360)), inplace=True)\n",
    "    # data = MICE().complete(data)\n",
    "    \n",
    "    for col in columns:\n",
    "        # fill missing data with median values # GENERIC WAY\n",
    "        #data.loc[data[col].isnull(), col] = data[col].median()\n",
    "        # random sampling\n",
    "        # data.loc[data[col].isnull(), col] = data.loc[data[col].notnull(), col].sample( n = 1 )\n",
    "        data[col].fillna(np.random.choice(data.loc[data[col].notnull(), col]), inplace=True)\n",
    "        # data[col].fillna(data[col].median(), inplace=True)\n",
    "        # if (col not in['Park_ID', 'Location_Type', 'Footfall', 'Month', 'Year', 'Day', 'WeekDay', 'WeekOfYear', 'DayOfYear']):\n",
    "            # data[col] = StandardScaler().fit_transform(data[col])\n",
    "    \n",
    "    return data;"
   ]
  },
  {
   "cell_type": "code",
   "execution_count": 6,
   "metadata": {
    "collapsed": false,
    "scrolled": true
   },
   "outputs": [],
   "source": [
    "df_train_data = transform_data(train)\n",
    "df_test_data = transform_data(test)\n",
    "\n",
    "df_train_labels = df_train_data['Footfall']\n",
    "df_train_data = df_train_data.drop('Footfall', axis=1)\n"
   ]
  },
  {
   "cell_type": "code",
   "execution_count": 188,
   "metadata": {
    "collapsed": false
   },
   "outputs": [
    {
     "name": "stdout",
     "output_type": "stream",
     "text": [
      "[54.337675536355228, 53.160654717645627, 53.271396429012249, 52.934908293208288, 53.473218531021132, 53.801167798383119, 53.848319372980676, 53.612858689611578, 53.932152263044465, 53.444092405433402]\n",
      "('mean rmse: ', 53.581644403669578)\n"
     ]
    }
   ],
   "source": [
    "data = df_train_data\n",
    "labels = df_train_labels\n",
    "result_rmse = []\n",
    "cv = KFold(len(data), n_folds=10, shuffle=False, random_state=None)\n",
    "#gb1 = GradientBoostingRegressor( n_estimators = 200, max_depth = 10, learning_rate = 0.01) #BestTillNow \n",
    "gb1 = xgb.XGBRegressor(max_depth=10, learning_rate=0.1, n_estimators=300)\n",
    "for trainindex, testindex in cv:\n",
    "    randomindexs = np.random.permutation(len(data))\n",
    "    data = data.iloc[randomindexs]\n",
    "    labels = labels.iloc[randomindexs]\n",
    "    train_data = data.iloc[trainindex]\n",
    "    train_labels = labels.iloc[trainindex]\n",
    "    tr_test_data = data.iloc[testindex]\n",
    "    tr_test_labels = labels.iloc[testindex]\n",
    "\n",
    "    gb1.fit(train_data, train_labels)\n",
    "    predicted_labels = gb1.predict(tr_test_data)\n",
    "    rmse= np.sqrt(metrics.mean_squared_error(tr_test_labels, predicted_labels))\n",
    "    result_rmse.append(rmse)\n",
    "\n",
    "print (result_rmse)\n",
    "print ('mean rmse: ', np.mean(result_rmse))\n"
   ]
  },
  {
   "cell_type": "code",
   "execution_count": 276,
   "metadata": {
    "collapsed": false
   },
   "outputs": [
    {
     "name": "stdout",
     "output_type": "stream",
     "text": [
      "64.5300547815\n"
     ]
    }
   ],
   "source": [
    "# split into a training and testing set\n",
    "X_train, X_test, y_train, y_test = train_test_split( df_train_data, df_train_labels, test_size=0.25, random_state=42) \n",
    "gb1 = xgb.XGBRegressor(max_depth=10, learning_rate=0.1, n_estimators = 300)\n",
    "#gb1 = GradientBoostingRegressor( n_estimators = 500, max_depth = 10, learning_rate = 0.01)\n",
    "gb1.fit(X_train, y_train)\n",
    "predicted_labels = gb1.predict(X_test)\n",
    "rmse= np.sqrt(metrics.mean_squared_error(y_test, predicted_labels))\n",
    "print rmse"
   ]
  },
  {
   "cell_type": "code",
   "execution_count": 277,
   "metadata": {
    "collapsed": false
   },
   "outputs": [
    {
     "data": {
      "text/plain": [
       "<matplotlib.axes._subplots.AxesSubplot at 0x7fa3193c8a50>"
      ]
     },
     "execution_count": 277,
     "metadata": {},
     "output_type": "execute_result"
    },
    {
     "data": {
      "image/png": "[encoded data removed]",
      "text/plain": [
       "<matplotlib.figure.Figure at 0x7fa319159450>"
      ]
     },
     "metadata": {},
     "output_type": "display_data"
    }
   ],
   "source": [
    "xgb.plot_importance(gb1)"
   ]
  },
  {
   "cell_type": "code",
   "execution_count": 278,
   "metadata": {
    "collapsed": false,
    "scrolled": true
   },
   "outputs": [],
   "source": [
    "predictions = pd.DataFrame(gb1.predict(df_test_data))\n",
    "results = pd.DataFrame();\n",
    "results['ID'] = test['ID']\n",
    "results['Footfall'] = np.round(predictions)\n",
    "timestr = time.strftime(\"%Y%m%d-%H%M%S\")\n",
    "results.to_csv('submission' + timestr + \".csv\", index=False)"
   ]
  },
  {
   "cell_type": "code",
   "execution_count": 221,
   "metadata": {
    "collapsed": false
   },
   "outputs": [
    {
     "name": "stdout",
     "output_type": "stream",
     "text": [
      "[3 4 1 2]\n",
      "[3 4 1 2]\n"
     ]
    }
   ],
   "source": [
    "print train.Location_Type.unique()\n",
    "print test.Location_Type.unique()"
   ]
  }
 ],
 "metadata": {
  "kernelspec": {
   "display_name": "Python [Root]",
   "language": "python",
   "name": "Python [Root]"
  },
  "language_info": {
   "codemirror_mode": {
    "name": "ipython",
    "version": 2
   },
   "file_extension": ".py",
   "mimetype": "text/x-python",
   "name": "python",
   "nbconvert_exporter": "python",
   "pygments_lexer": "ipython2",
   "version": "2.7.12"
  }
 },
 "nbformat": 4,
 "nbformat_minor": 0
}
