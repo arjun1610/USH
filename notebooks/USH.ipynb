{
 "cells": [
  {
   "cell_type": "code",
   "execution_count": 29,
   "metadata": {
    "collapsed": false
   },
   "outputs": [],
   "source": [
    "import pandas as pd\n",
    "import numpy as np\n",
    "import matplotlib.pyplot as plt\n",
    "import time\n",
    "%matplotlib inline\n",
    "from sklearn.preprocessing import StandardScaler\n",
    "from sklearn.preprocessing import MinMaxScaler\n",
    "from sklearn.ensemble import RandomForestRegressor\n",
    "from sklearn.ensemble import GradientBoostingRegressor\n",
    "from sklearn.grid_search import GridSearchCV\n",
    "from sklearn.cross_validation import train_test_split, KFold\n",
    "from sklearn import metrics\n",
    "import xgboost as xgb\n",
    "from fancyimpute import BiScaler, KNN, NuclearNormMinimization, SoftImpute, MatrixFactorization, MICE\n",
    "from sklearn import preprocessing"
   ]
  },
  {
   "cell_type": "code",
   "execution_count": 39,
   "metadata": {
    "collapsed": false
   },
   "outputs": [],
   "source": [
    "train = pd.read_csv('../data/train.csv')\n",
    "test = pd.read_csv('../data/test.csv')"
   ]
  },
  {
   "cell_type": "code",
   "execution_count": 37,
   "metadata": {
    "collapsed": false,
    "scrolled": true
   },
   "outputs": [
    {
     "data": {
      "text/plain": [
       "array([ 0,  1,  2,  3,  4,  5,  6,  7,  8,  9, 10, 11, 12, 13, 14, 15, 16,\n",
       "       17, 18, 19, 20, 21, 22, 23, 24, 25, 26, 27])"
      ]
     },
     "execution_count": 37,
     "metadata": {},
     "output_type": "execute_result"
    }
   ],
   "source": [
    "encoder  = preprocessing.LabelEncoder()\n",
    "train.Park_ID = encoder.fit_transform(train.Park_ID)\n",
    "train.Park_ID.unique()"
   ]
  },
  {
   "cell_type": "code",
   "execution_count": 27,
   "metadata": {
    "collapsed": false,
    "scrolled": true
   },
   "outputs": [
    {
     "name": "stderr",
     "output_type": "stream",
     "text": [
      "/home/arjun/anaconda2/lib/python2.7/site-packages/numpy/lib/function_base.py:3834: RuntimeWarning: Invalid value encountered in percentile\n",
      "  RuntimeWarning)\n"
     ]
    },
    {
     "data": {
      "text/html": [
       "<div>\n",
       "<table border=\"1\" class=\"dataframe\">\n",
       "  <thead>\n",
       "    <tr style=\"text-align: right;\">\n",
       "      <th></th>\n",
       "      <th>ID</th>\n",
       "      <th>Park_ID</th>\n",
       "      <th>Direction_Of_Wind</th>\n",
       "      <th>Average_Breeze_Speed</th>\n",
       "      <th>Max_Breeze_Speed</th>\n",
       "      <th>Min_Breeze_Speed</th>\n",
       "      <th>Var1</th>\n",
       "      <th>Average_Atmospheric_Pressure</th>\n",
       "      <th>Max_Atmospheric_Pressure</th>\n",
       "      <th>Min_Atmospheric_Pressure</th>\n",
       "      <th>Min_Ambient_Pollution</th>\n",
       "      <th>Max_Ambient_Pollution</th>\n",
       "      <th>Average_Moisture_In_Park</th>\n",
       "      <th>Max_Moisture_In_Park</th>\n",
       "      <th>Min_Moisture_In_Park</th>\n",
       "      <th>Location_Type</th>\n",
       "      <th>Footfall</th>\n",
       "    </tr>\n",
       "  </thead>\n",
       "  <tbody>\n",
       "    <tr>\n",
       "      <th>count</th>\n",
       "      <td>1.145390e+05</td>\n",
       "      <td>114539.000000</td>\n",
       "      <td>110608.000000</td>\n",
       "      <td>110608.000000</td>\n",
       "      <td>110603.000000</td>\n",
       "      <td>110605.000000</td>\n",
       "      <td>106257.000000</td>\n",
       "      <td>74344.000000</td>\n",
       "      <td>74344.000000</td>\n",
       "      <td>74344.000000</td>\n",
       "      <td>82894.000000</td>\n",
       "      <td>82894.000000</td>\n",
       "      <td>114499.000000</td>\n",
       "      <td>114499.000000</td>\n",
       "      <td>114499.000000</td>\n",
       "      <td>114539.000000</td>\n",
       "      <td>114539.000000</td>\n",
       "    </tr>\n",
       "    <tr>\n",
       "      <th>mean</th>\n",
       "      <td>3.517595e+06</td>\n",
       "      <td>25.582596</td>\n",
       "      <td>179.587146</td>\n",
       "      <td>34.255340</td>\n",
       "      <td>51.704297</td>\n",
       "      <td>17.282553</td>\n",
       "      <td>18.802545</td>\n",
       "      <td>8331.545949</td>\n",
       "      <td>8356.053468</td>\n",
       "      <td>8305.692510</td>\n",
       "      <td>162.806138</td>\n",
       "      <td>306.555698</td>\n",
       "      <td>248.008970</td>\n",
       "      <td>283.917082</td>\n",
       "      <td>202.355331</td>\n",
       "      <td>2.630720</td>\n",
       "      <td>1204.217192</td>\n",
       "    </tr>\n",
       "    <tr>\n",
       "      <th>std</th>\n",
       "      <td>1.189083e+05</td>\n",
       "      <td>8.090592</td>\n",
       "      <td>85.362934</td>\n",
       "      <td>17.440065</td>\n",
       "      <td>22.068301</td>\n",
       "      <td>14.421844</td>\n",
       "      <td>38.269851</td>\n",
       "      <td>80.943971</td>\n",
       "      <td>76.032983</td>\n",
       "      <td>87.172258</td>\n",
       "      <td>90.869627</td>\n",
       "      <td>38.188020</td>\n",
       "      <td>28.898084</td>\n",
       "      <td>15.637930</td>\n",
       "      <td>46.365728</td>\n",
       "      <td>0.967435</td>\n",
       "      <td>248.385651</td>\n",
       "    </tr>\n",
       "    <tr>\n",
       "      <th>min</th>\n",
       "      <td>3.311712e+06</td>\n",
       "      <td>12.000000</td>\n",
       "      <td>1.000000</td>\n",
       "      <td>3.040000</td>\n",
       "      <td>7.600000</td>\n",
       "      <td>0.000000</td>\n",
       "      <td>0.000000</td>\n",
       "      <td>7982.000000</td>\n",
       "      <td>8037.000000</td>\n",
       "      <td>7890.000000</td>\n",
       "      <td>4.000000</td>\n",
       "      <td>8.000000</td>\n",
       "      <td>102.000000</td>\n",
       "      <td>141.000000</td>\n",
       "      <td>48.000000</td>\n",
       "      <td>1.000000</td>\n",
       "      <td>310.000000</td>\n",
       "    </tr>\n",
       "    <tr>\n",
       "      <th>25%</th>\n",
       "      <td>3.414820e+06</td>\n",
       "      <td>18.000000</td>\n",
       "      <td>NaN</td>\n",
       "      <td>NaN</td>\n",
       "      <td>NaN</td>\n",
       "      <td>NaN</td>\n",
       "      <td>NaN</td>\n",
       "      <td>NaN</td>\n",
       "      <td>NaN</td>\n",
       "      <td>NaN</td>\n",
       "      <td>NaN</td>\n",
       "      <td>NaN</td>\n",
       "      <td>NaN</td>\n",
       "      <td>NaN</td>\n",
       "      <td>NaN</td>\n",
       "      <td>2.000000</td>\n",
       "      <td>1026.000000</td>\n",
       "    </tr>\n",
       "    <tr>\n",
       "      <th>50%</th>\n",
       "      <td>3.517039e+06</td>\n",
       "      <td>26.000000</td>\n",
       "      <td>NaN</td>\n",
       "      <td>NaN</td>\n",
       "      <td>NaN</td>\n",
       "      <td>NaN</td>\n",
       "      <td>NaN</td>\n",
       "      <td>NaN</td>\n",
       "      <td>NaN</td>\n",
       "      <td>NaN</td>\n",
       "      <td>NaN</td>\n",
       "      <td>NaN</td>\n",
       "      <td>NaN</td>\n",
       "      <td>NaN</td>\n",
       "      <td>NaN</td>\n",
       "      <td>3.000000</td>\n",
       "      <td>1216.000000</td>\n",
       "    </tr>\n",
       "    <tr>\n",
       "      <th>75%</th>\n",
       "      <td>3.619624e+06</td>\n",
       "      <td>33.000000</td>\n",
       "      <td>NaN</td>\n",
       "      <td>NaN</td>\n",
       "      <td>NaN</td>\n",
       "      <td>NaN</td>\n",
       "      <td>NaN</td>\n",
       "      <td>NaN</td>\n",
       "      <td>NaN</td>\n",
       "      <td>NaN</td>\n",
       "      <td>NaN</td>\n",
       "      <td>NaN</td>\n",
       "      <td>NaN</td>\n",
       "      <td>NaN</td>\n",
       "      <td>NaN</td>\n",
       "      <td>3.000000</td>\n",
       "      <td>1402.000000</td>\n",
       "    </tr>\n",
       "    <tr>\n",
       "      <th>max</th>\n",
       "      <td>3.725639e+06</td>\n",
       "      <td>39.000000</td>\n",
       "      <td>360.000000</td>\n",
       "      <td>154.280000</td>\n",
       "      <td>212.800000</td>\n",
       "      <td>129.200000</td>\n",
       "      <td>1181.090000</td>\n",
       "      <td>8588.000000</td>\n",
       "      <td>8601.000000</td>\n",
       "      <td>8571.000000</td>\n",
       "      <td>348.000000</td>\n",
       "      <td>356.000000</td>\n",
       "      <td>300.000000</td>\n",
       "      <td>300.000000</td>\n",
       "      <td>300.000000</td>\n",
       "      <td>4.000000</td>\n",
       "      <td>1925.000000</td>\n",
       "    </tr>\n",
       "  </tbody>\n",
       "</table>\n",
       "</div>"
      ],
      "text/plain": [
       "                 ID        Park_ID  Direction_Of_Wind  Average_Breeze_Speed  \\\n",
       "count  1.145390e+05  114539.000000      110608.000000         110608.000000   \n",
       "mean   3.517595e+06      25.582596         179.587146             34.255340   \n",
       "std    1.189083e+05       8.090592          85.362934             17.440065   \n",
       "min    3.311712e+06      12.000000           1.000000              3.040000   \n",
       "25%    3.414820e+06      18.000000                NaN                   NaN   \n",
       "50%    3.517039e+06      26.000000                NaN                   NaN   \n",
       "75%    3.619624e+06      33.000000                NaN                   NaN   \n",
       "max    3.725639e+06      39.000000         360.000000            154.280000   \n",
       "\n",
       "       Max_Breeze_Speed  Min_Breeze_Speed           Var1  \\\n",
       "count     110603.000000     110605.000000  106257.000000   \n",
       "mean          51.704297         17.282553      18.802545   \n",
       "std           22.068301         14.421844      38.269851   \n",
       "min            7.600000          0.000000       0.000000   \n",
       "25%                 NaN               NaN            NaN   \n",
       "50%                 NaN               NaN            NaN   \n",
       "75%                 NaN               NaN            NaN   \n",
       "max          212.800000        129.200000    1181.090000   \n",
       "\n",
       "       Average_Atmospheric_Pressure  Max_Atmospheric_Pressure  \\\n",
       "count                  74344.000000              74344.000000   \n",
       "mean                    8331.545949               8356.053468   \n",
       "std                       80.943971                 76.032983   \n",
       "min                     7982.000000               8037.000000   \n",
       "25%                             NaN                       NaN   \n",
       "50%                             NaN                       NaN   \n",
       "75%                             NaN                       NaN   \n",
       "max                     8588.000000               8601.000000   \n",
       "\n",
       "       Min_Atmospheric_Pressure  Min_Ambient_Pollution  Max_Ambient_Pollution  \\\n",
       "count              74344.000000           82894.000000           82894.000000   \n",
       "mean                8305.692510             162.806138             306.555698   \n",
       "std                   87.172258              90.869627              38.188020   \n",
       "min                 7890.000000               4.000000               8.000000   \n",
       "25%                         NaN                    NaN                    NaN   \n",
       "50%                         NaN                    NaN                    NaN   \n",
       "75%                         NaN                    NaN                    NaN   \n",
       "max                 8571.000000             348.000000             356.000000   \n",
       "\n",
       "       Average_Moisture_In_Park  Max_Moisture_In_Park  Min_Moisture_In_Park  \\\n",
       "count             114499.000000         114499.000000         114499.000000   \n",
       "mean                 248.008970            283.917082            202.355331   \n",
       "std                   28.898084             15.637930             46.365728   \n",
       "min                  102.000000            141.000000             48.000000   \n",
       "25%                         NaN                   NaN                   NaN   \n",
       "50%                         NaN                   NaN                   NaN   \n",
       "75%                         NaN                   NaN                   NaN   \n",
       "max                  300.000000            300.000000            300.000000   \n",
       "\n",
       "       Location_Type       Footfall  \n",
       "count  114539.000000  114539.000000  \n",
       "mean        2.630720    1204.217192  \n",
       "std         0.967435     248.385651  \n",
       "min         1.000000     310.000000  \n",
       "25%         2.000000    1026.000000  \n",
       "50%         3.000000    1216.000000  \n",
       "75%         3.000000    1402.000000  \n",
       "max         4.000000    1925.000000  "
      ]
     },
     "execution_count": 27,
     "metadata": {},
     "output_type": "execute_result"
    }
   ],
   "source": [
    "train.describe()"
   ]
  },
  {
   "cell_type": "code",
   "execution_count": 28,
   "metadata": {
    "collapsed": false
   },
   "outputs": [
    {
     "data": {
      "text/plain": [
       "<matplotlib.collections.PathCollection at 0x7efdb08d7d50>"
      ]
     },
     "execution_count": 28,
     "metadata": {},
     "output_type": "execute_result"
    },
    {
     "data": {
      "image/png": "[encoded data removed]",
      "text/plain": [
       "<matplotlib.figure.Figure at 0x7efdb092f290>"
      ]
     },
     "metadata": {},
     "output_type": "display_data"
    }
   ],
   "source": [
    "plt.scatter(train.Park_ID, train.Location_Type)\n",
    "\n",
    "train.Date = pd.to_datetime(train.Date)\n",
    "plt.scatter(train[train.Date.dt.year == 1990]['Footfall'], train[train.Date.dt.year == 1990]['Location_Type'])\n"
   ]
  },
  {
   "cell_type": "code",
   "execution_count": 20,
   "metadata": {
    "collapsed": false
   },
   "outputs": [
    {
     "data": {
      "text/plain": [
       "<matplotlib.collections.PathCollection at 0x7efdb0b91bd0>"
      ]
     },
     "execution_count": 20,
     "metadata": {},
     "output_type": "execute_result"
    },
    {
     "data": {
      "image/png": "[encoded data removed]",
      "text/plain": [
       "<matplotlib.figure.Figure at 0x7efdb0c140d0>"
      ]
     },
     "metadata": {},
     "output_type": "display_data"
    }
   ],
   "source": [
    "plt.scatter(train[train.Date.dt.year == 1991]['Footfall'], train[train.Date.dt.year == 1991]['Location_Type'])"
   ]
  },
  {
   "cell_type": "code",
   "execution_count": 21,
   "metadata": {
    "collapsed": false
   },
   "outputs": [
    {
     "data": {
      "text/plain": [
       "<matplotlib.collections.PathCollection at 0x7efdb0ad7c10>"
      ]
     },
     "execution_count": 21,
     "metadata": {},
     "output_type": "execute_result"
    },
    {
     "data": {
      "image/png": "[encoded data removed]",
      "text/plain": [
       "<matplotlib.figure.Figure at 0x7efdb0baa410>"
      ]
     },
     "metadata": {},
     "output_type": "display_data"
    }
   ],
   "source": [
    "plt.scatter(train[train.Date.dt.year == 1992]['Footfall'], train[train.Date.dt.year == 1992]['Location_Type'])"
   ]
  },
  {
   "cell_type": "code",
   "execution_count": 22,
   "metadata": {
    "collapsed": false
   },
   "outputs": [
    {
     "data": {
      "text/plain": [
       "<matplotlib.collections.PathCollection at 0x7efdb0a18c50>"
      ]
     },
     "execution_count": 22,
     "metadata": {},
     "output_type": "execute_result"
    },
    {
     "data": {
      "image/png": "[encoded data removed]",
      "text/plain": [
       "<matplotlib.figure.Figure at 0x7efdb0a709d0>"
      ]
     },
     "metadata": {},
     "output_type": "display_data"
    }
   ],
   "source": [
    "plt.scatter(train[train.Date.dt.year == 1995]['Footfall'], train[train.Date.dt.year == 1995]['Location_Type'])"
   ]
  },
  {
   "cell_type": "code",
   "execution_count": 271,
   "metadata": {
    "collapsed": false
   },
   "outputs": [
    {
     "data": {
      "text/plain": [
       "ID                                  0\n",
       "Park_ID                             0\n",
       "Date                                0\n",
       "Direction_Of_Wind                3931\n",
       "Average_Breeze_Speed             3931\n",
       "Max_Breeze_Speed                 3936\n",
       "Min_Breeze_Speed                 3934\n",
       "Var1                             8282\n",
       "Average_Atmospheric_Pressure    40195\n",
       "Max_Atmospheric_Pressure        40195\n",
       "Min_Atmospheric_Pressure        40195\n",
       "Min_Ambient_Pollution           31645\n",
       "Max_Ambient_Pollution           31645\n",
       "Average_Moisture_In_Park           40\n",
       "Max_Moisture_In_Park               40\n",
       "Min_Moisture_In_Park               40\n",
       "Location_Type                       0\n",
       "Footfall                            0\n",
       "dtype: int64"
      ]
     },
     "execution_count": 271,
     "metadata": {},
     "output_type": "execute_result"
    }
   ],
   "source": [
    "train.isnull().sum()"
   ]
  },
  {
   "cell_type": "code",
   "execution_count": 301,
   "metadata": {
    "collapsed": false
   },
   "outputs": [
    {
     "data": {
      "text/plain": [
       "<matplotlib.collections.PathCollection at 0x7fa31891c050>"
      ]
     },
     "execution_count": 301,
     "metadata": {},
     "output_type": "execute_result"
    },
    {
     "data": {
      "image/png": "[encoded data removed]",
      "text/plain": [
       "<matplotlib.figure.Figure at 0x7fa3190a4290>"
      ]
     },
     "metadata": {},
     "output_type": "display_data"
    }
   ],
   "source": [
    "train.Date = pd.to_datetime(train.Date)\n",
    "tr_1 = train[(train.Date.dt.month ==10) &  (train.Date.dt.year == 2000)]\n",
    "plt.scatter(tr_1.Location_Type, tr_1.Footfall)"
   ]
  },
  {
   "cell_type": "code",
   "execution_count": 38,
   "metadata": {
    "collapsed": false
   },
   "outputs": [],
   "source": [
    "def transform_data(data):\n",
    "    data['Date'] = pd.to_datetime(data['Date'])\n",
    "    data['Month'] = data['Date'].dt.month\n",
    "    #data['Year'] = data['Date'].dt.year\n",
    "    data['Day'] = data['Date'].dt.day\n",
    "    # data['WeekOfYear'] = data['Date'].dt.weekofyear\n",
    "    # data['DayOfYear'] = data['Date'].dt.dayofyear + 1\n",
    "    # data['WeekDay'] = data['Date'].dt.weekday\n",
    "    encoder  = preprocessing.LabelEncoder()\n",
    "    data['Park_ID'] = encoder.fit_transform(data['Park_ID'])\n",
    "    # Average Ambient Pollution bhi nikal lo\n",
    "    data['Diff_Breeze_Speed'] = data['Max_Breeze_Speed'] - data['Min_Breeze_Speed']\n",
    "    data['Diff_Atmospheric_Pressure'] = data['Max_Atmospheric_Pressure'] - data['Min_Atmospheric_Pressure']\n",
    "    data['Diff_Ambient_Pollution'] = data['Max_Ambient_Pollution'] - data['Min_Ambient_Pollution']\n",
    "    data['Average_Ambient_Pollution'] = (data['Max_Ambient_Pollution'] + data['Min_Ambient_Pollution'])/2\n",
    "    data['Diff_Moisture_In_Park'] = data['Max_Moisture_In_Park'] - data['Min_Moisture_In_Park']\n",
    "    # data['Breeze_Speed'] = data['Diff_Breeze_Speed'] / data['Average_Breeze_Speed']\n",
    "    # data['Atm_Pressure'] = data['Diff_Atmospheric_Pressure'] / data['Average_Atmospheric_Pressure']\n",
    "    # data['Amb_Pollution'] = data['Diff_Ambient_Pollution'] / data['Average_Ambient_Pollution']\n",
    "    # data['Moisture_In_Park'] = data['Diff_Moisture_In_Park'] / data['Average_Moisture_In_Park']\n",
    "    # data = data.drop(labels=['Date'], axis=1)\n",
    "    data = data.drop(labels=['Date','Max_Ambient_Pollution','Max_Atmospheric_Pressure','Max_Breeze_Speed' ,'Max_Moisture_In_Park', 'Min_Moisture_In_Park','Min_Ambient_Pollution', 'Min_Atmospheric_Pressure', 'Min_Breeze_Speed' ], axis=1)\n",
    "    # data = data.drop(labels=['Diff_Breeze_Speed', 'Diff_Atmospheric_Pressure', 'Diff_Ambient_Pollution', 'Diff_Moisture_In_Park', 'Average_Moisture_In_Park', 'Average_Ambient_Pollution', 'Average_Atmospheric_Pressure', 'Average_Breeze_Speed'], axis =1)\n",
    "    # data['Year'] = data['Year'] - data['Year'].min()\n",
    "    columns = data.columns.values\n",
    "    # data.loc[data['Direction_Of_Wind'].isnull(), 'Direction_Of_Wind'] = np.round(np.random.uniform(0,360))\n",
    "    data['Direction_Of_Wind'].fillna(np.round(np.random.uniform(0,360)), inplace=True)\n",
    "    # data = MICE().complete(data)\n",
    "    \n",
    "    for col in columns:\n",
    "        # fill missing data with median values # GENERIC WAY\n",
    "        #data.loc[data[col].isnull(), col] = data[col].median()\n",
    "        # random sampling\n",
    "        # data.loc[data[col].isnull(), col] = data.loc[data[col].notnull(), col].sample( n = 1 )\n",
    "        # data[col].fillna(np.random.choice(data.loc[data[col].notnull(), col]), inplace=True)\n",
    "        data[col].fillna(method= 'ffill', inplace=True)\n",
    "        #if (col not in['Park_ID', 'Location_Type', 'Footfall', 'Month', 'Year', 'Day', 'WeekDay', 'WeekOfYear', 'DayOfYear']):\n",
    "            #data[col] = MinMaxScaler().fit_transform(data[col])\n",
    "    \n",
    "    return data;"
   ]
  },
  {
   "cell_type": "code",
   "execution_count": 28,
   "metadata": {
    "collapsed": false,
    "scrolled": true
   },
   "outputs": [
    {
     "data": {
      "text/html": [
       "<div>\n",
       "<table border=\"1\" class=\"dataframe\">\n",
       "  <thead>\n",
       "    <tr style=\"text-align: right;\">\n",
       "      <th></th>\n",
       "      <th>ID</th>\n",
       "      <th>Park_ID</th>\n",
       "      <th>Direction_Of_Wind</th>\n",
       "      <th>Average_Breeze_Speed</th>\n",
       "      <th>Max_Breeze_Speed</th>\n",
       "      <th>Min_Breeze_Speed</th>\n",
       "      <th>Var1</th>\n",
       "      <th>Average_Atmospheric_Pressure</th>\n",
       "      <th>Max_Atmospheric_Pressure</th>\n",
       "      <th>Min_Atmospheric_Pressure</th>\n",
       "      <th>Min_Ambient_Pollution</th>\n",
       "      <th>Max_Ambient_Pollution</th>\n",
       "      <th>Average_Moisture_In_Park</th>\n",
       "      <th>Max_Moisture_In_Park</th>\n",
       "      <th>Min_Moisture_In_Park</th>\n",
       "      <th>Location_Type</th>\n",
       "      <th>Footfall</th>\n",
       "    </tr>\n",
       "  </thead>\n",
       "  <tbody>\n",
       "    <tr>\n",
       "      <th>ID</th>\n",
       "      <td>1.000000</td>\n",
       "      <td>0.006604</td>\n",
       "      <td>0.000188</td>\n",
       "      <td>-0.019711</td>\n",
       "      <td>-0.022828</td>\n",
       "      <td>-0.019252</td>\n",
       "      <td>-0.016422</td>\n",
       "      <td>0.013205</td>\n",
       "      <td>0.002701</td>\n",
       "      <td>0.022042</td>\n",
       "      <td>0.030235</td>\n",
       "      <td>-0.011796</td>\n",
       "      <td>-0.046205</td>\n",
       "      <td>0.003539</td>\n",
       "      <td>-0.048289</td>\n",
       "      <td>-0.020017</td>\n",
       "      <td>0.005945</td>\n",
       "    </tr>\n",
       "    <tr>\n",
       "      <th>Park_ID</th>\n",
       "      <td>0.006604</td>\n",
       "      <td>1.000000</td>\n",
       "      <td>-0.011702</td>\n",
       "      <td>-0.254700</td>\n",
       "      <td>-0.244308</td>\n",
       "      <td>-0.206895</td>\n",
       "      <td>-0.012029</td>\n",
       "      <td>0.024007</td>\n",
       "      <td>0.023070</td>\n",
       "      <td>0.026726</td>\n",
       "      <td>-0.030881</td>\n",
       "      <td>0.041081</td>\n",
       "      <td>-0.039819</td>\n",
       "      <td>0.098473</td>\n",
       "      <td>-0.110576</td>\n",
       "      <td>0.032950</td>\n",
       "      <td>0.004938</td>\n",
       "    </tr>\n",
       "    <tr>\n",
       "      <th>Direction_Of_Wind</th>\n",
       "      <td>0.000188</td>\n",
       "      <td>-0.011702</td>\n",
       "      <td>1.000000</td>\n",
       "      <td>0.130190</td>\n",
       "      <td>0.174913</td>\n",
       "      <td>0.053646</td>\n",
       "      <td>0.144963</td>\n",
       "      <td>-0.113537</td>\n",
       "      <td>-0.096337</td>\n",
       "      <td>-0.133386</td>\n",
       "      <td>0.044231</td>\n",
       "      <td>0.122890</td>\n",
       "      <td>0.131413</td>\n",
       "      <td>0.108886</td>\n",
       "      <td>0.110538</td>\n",
       "      <td>-0.001736</td>\n",
       "      <td>0.097791</td>\n",
       "    </tr>\n",
       "    <tr>\n",
       "      <th>Average_Breeze_Speed</th>\n",
       "      <td>-0.019711</td>\n",
       "      <td>-0.254700</td>\n",
       "      <td>0.130190</td>\n",
       "      <td>1.000000</td>\n",
       "      <td>0.939240</td>\n",
       "      <td>0.879702</td>\n",
       "      <td>0.241275</td>\n",
       "      <td>-0.338415</td>\n",
       "      <td>-0.284753</td>\n",
       "      <td>-0.372108</td>\n",
       "      <td>0.287912</td>\n",
       "      <td>0.029159</td>\n",
       "      <td>-0.004368</td>\n",
       "      <td>-0.294786</td>\n",
       "      <td>0.171017</td>\n",
       "      <td>-0.063469</td>\n",
       "      <td>-0.074574</td>\n",
       "    </tr>\n",
       "    <tr>\n",
       "      <th>Max_Breeze_Speed</th>\n",
       "      <td>-0.022828</td>\n",
       "      <td>-0.244308</td>\n",
       "      <td>0.174913</td>\n",
       "      <td>0.939240</td>\n",
       "      <td>1.000000</td>\n",
       "      <td>0.739617</td>\n",
       "      <td>0.280360</td>\n",
       "      <td>-0.360265</td>\n",
       "      <td>-0.298931</td>\n",
       "      <td>-0.403972</td>\n",
       "      <td>0.261887</td>\n",
       "      <td>0.089219</td>\n",
       "      <td>-0.015761</td>\n",
       "      <td>-0.242604</td>\n",
       "      <td>0.122521</td>\n",
       "      <td>-0.068548</td>\n",
       "      <td>-0.037826</td>\n",
       "    </tr>\n",
       "    <tr>\n",
       "      <th>Min_Breeze_Speed</th>\n",
       "      <td>-0.019252</td>\n",
       "      <td>-0.206895</td>\n",
       "      <td>0.053646</td>\n",
       "      <td>0.879702</td>\n",
       "      <td>0.739617</td>\n",
       "      <td>1.000000</td>\n",
       "      <td>0.159921</td>\n",
       "      <td>-0.262979</td>\n",
       "      <td>-0.228288</td>\n",
       "      <td>-0.280722</td>\n",
       "      <td>0.259042</td>\n",
       "      <td>-0.053827</td>\n",
       "      <td>0.030279</td>\n",
       "      <td>-0.302916</td>\n",
       "      <td>0.207190</td>\n",
       "      <td>-0.042174</td>\n",
       "      <td>-0.109744</td>\n",
       "    </tr>\n",
       "    <tr>\n",
       "      <th>Var1</th>\n",
       "      <td>-0.016422</td>\n",
       "      <td>-0.012029</td>\n",
       "      <td>0.144963</td>\n",
       "      <td>0.241275</td>\n",
       "      <td>0.280360</td>\n",
       "      <td>0.159921</td>\n",
       "      <td>1.000000</td>\n",
       "      <td>-0.373926</td>\n",
       "      <td>-0.329983</td>\n",
       "      <td>-0.387436</td>\n",
       "      <td>-0.077260</td>\n",
       "      <td>-0.003581</td>\n",
       "      <td>0.231970</td>\n",
       "      <td>0.140922</td>\n",
       "      <td>0.202088</td>\n",
       "      <td>-0.004550</td>\n",
       "      <td>0.058543</td>\n",
       "    </tr>\n",
       "    <tr>\n",
       "      <th>Average_Atmospheric_Pressure</th>\n",
       "      <td>0.013205</td>\n",
       "      <td>0.024007</td>\n",
       "      <td>-0.113537</td>\n",
       "      <td>-0.338415</td>\n",
       "      <td>-0.360265</td>\n",
       "      <td>-0.262979</td>\n",
       "      <td>-0.373926</td>\n",
       "      <td>1.000000</td>\n",
       "      <td>0.974096</td>\n",
       "      <td>0.975541</td>\n",
       "      <td>-0.038343</td>\n",
       "      <td>-0.046624</td>\n",
       "      <td>-0.153256</td>\n",
       "      <td>-0.050730</td>\n",
       "      <td>-0.172049</td>\n",
       "      <td>0.004875</td>\n",
       "      <td>-0.054022</td>\n",
       "    </tr>\n",
       "    <tr>\n",
       "      <th>Max_Atmospheric_Pressure</th>\n",
       "      <td>0.002701</td>\n",
       "      <td>0.023070</td>\n",
       "      <td>-0.096337</td>\n",
       "      <td>-0.284753</td>\n",
       "      <td>-0.298931</td>\n",
       "      <td>-0.228288</td>\n",
       "      <td>-0.329983</td>\n",
       "      <td>0.974096</td>\n",
       "      <td>1.000000</td>\n",
       "      <td>0.913437</td>\n",
       "      <td>-0.044225</td>\n",
       "      <td>-0.054715</td>\n",
       "      <td>-0.122840</td>\n",
       "      <td>-0.038282</td>\n",
       "      <td>-0.138939</td>\n",
       "      <td>0.005146</td>\n",
       "      <td>-0.107707</td>\n",
       "    </tr>\n",
       "    <tr>\n",
       "      <th>Min_Atmospheric_Pressure</th>\n",
       "      <td>0.022042</td>\n",
       "      <td>0.026726</td>\n",
       "      <td>-0.133386</td>\n",
       "      <td>-0.372108</td>\n",
       "      <td>-0.403972</td>\n",
       "      <td>-0.280722</td>\n",
       "      <td>-0.387436</td>\n",
       "      <td>0.975541</td>\n",
       "      <td>0.913437</td>\n",
       "      <td>1.000000</td>\n",
       "      <td>-0.041464</td>\n",
       "      <td>-0.047115</td>\n",
       "      <td>-0.168049</td>\n",
       "      <td>-0.057040</td>\n",
       "      <td>-0.189426</td>\n",
       "      <td>0.005378</td>\n",
       "      <td>-0.004614</td>\n",
       "    </tr>\n",
       "    <tr>\n",
       "      <th>Min_Ambient_Pollution</th>\n",
       "      <td>0.030235</td>\n",
       "      <td>-0.030881</td>\n",
       "      <td>0.044231</td>\n",
       "      <td>0.287912</td>\n",
       "      <td>0.261887</td>\n",
       "      <td>0.259042</td>\n",
       "      <td>-0.077260</td>\n",
       "      <td>-0.038343</td>\n",
       "      <td>-0.044225</td>\n",
       "      <td>-0.041464</td>\n",
       "      <td>1.000000</td>\n",
       "      <td>0.463705</td>\n",
       "      <td>-0.532786</td>\n",
       "      <td>-0.627203</td>\n",
       "      <td>-0.363822</td>\n",
       "      <td>0.004319</td>\n",
       "      <td>0.180871</td>\n",
       "    </tr>\n",
       "    <tr>\n",
       "      <th>Max_Ambient_Pollution</th>\n",
       "      <td>-0.011796</td>\n",
       "      <td>0.041081</td>\n",
       "      <td>0.122890</td>\n",
       "      <td>0.029159</td>\n",
       "      <td>0.089219</td>\n",
       "      <td>-0.053827</td>\n",
       "      <td>-0.003581</td>\n",
       "      <td>-0.046624</td>\n",
       "      <td>-0.054715</td>\n",
       "      <td>-0.047115</td>\n",
       "      <td>0.463705</td>\n",
       "      <td>1.000000</td>\n",
       "      <td>-0.560253</td>\n",
       "      <td>-0.266851</td>\n",
       "      <td>-0.614487</td>\n",
       "      <td>0.030553</td>\n",
       "      <td>0.383116</td>\n",
       "    </tr>\n",
       "    <tr>\n",
       "      <th>Average_Moisture_In_Park</th>\n",
       "      <td>-0.046205</td>\n",
       "      <td>-0.039819</td>\n",
       "      <td>0.131413</td>\n",
       "      <td>-0.004368</td>\n",
       "      <td>-0.015761</td>\n",
       "      <td>0.030279</td>\n",
       "      <td>0.231970</td>\n",
       "      <td>-0.153256</td>\n",
       "      <td>-0.122840</td>\n",
       "      <td>-0.168049</td>\n",
       "      <td>-0.532786</td>\n",
       "      <td>-0.560253</td>\n",
       "      <td>1.000000</td>\n",
       "      <td>0.663715</td>\n",
       "      <td>0.907291</td>\n",
       "      <td>-0.041194</td>\n",
       "      <td>-0.391286</td>\n",
       "    </tr>\n",
       "    <tr>\n",
       "      <th>Max_Moisture_In_Park</th>\n",
       "      <td>0.003539</td>\n",
       "      <td>0.098473</td>\n",
       "      <td>0.108886</td>\n",
       "      <td>-0.294786</td>\n",
       "      <td>-0.242604</td>\n",
       "      <td>-0.302916</td>\n",
       "      <td>0.140922</td>\n",
       "      <td>-0.050730</td>\n",
       "      <td>-0.038282</td>\n",
       "      <td>-0.057040</td>\n",
       "      <td>-0.627203</td>\n",
       "      <td>-0.266851</td>\n",
       "      <td>0.663715</td>\n",
       "      <td>1.000000</td>\n",
       "      <td>0.401918</td>\n",
       "      <td>0.003923</td>\n",
       "      <td>-0.096700</td>\n",
       "    </tr>\n",
       "    <tr>\n",
       "      <th>Min_Moisture_In_Park</th>\n",
       "      <td>-0.048289</td>\n",
       "      <td>-0.110576</td>\n",
       "      <td>0.110538</td>\n",
       "      <td>0.171017</td>\n",
       "      <td>0.122521</td>\n",
       "      <td>0.207190</td>\n",
       "      <td>0.202088</td>\n",
       "      <td>-0.172049</td>\n",
       "      <td>-0.138939</td>\n",
       "      <td>-0.189426</td>\n",
       "      <td>-0.363822</td>\n",
       "      <td>-0.614487</td>\n",
       "      <td>0.907291</td>\n",
       "      <td>0.401918</td>\n",
       "      <td>1.000000</td>\n",
       "      <td>-0.058903</td>\n",
       "      <td>-0.438506</td>\n",
       "    </tr>\n",
       "    <tr>\n",
       "      <th>Location_Type</th>\n",
       "      <td>-0.020017</td>\n",
       "      <td>0.032950</td>\n",
       "      <td>-0.001736</td>\n",
       "      <td>-0.063469</td>\n",
       "      <td>-0.068548</td>\n",
       "      <td>-0.042174</td>\n",
       "      <td>-0.004550</td>\n",
       "      <td>0.004875</td>\n",
       "      <td>0.005146</td>\n",
       "      <td>0.005378</td>\n",
       "      <td>0.004319</td>\n",
       "      <td>0.030553</td>\n",
       "      <td>-0.041194</td>\n",
       "      <td>0.003923</td>\n",
       "      <td>-0.058903</td>\n",
       "      <td>1.000000</td>\n",
       "      <td>0.004230</td>\n",
       "    </tr>\n",
       "    <tr>\n",
       "      <th>Footfall</th>\n",
       "      <td>0.005945</td>\n",
       "      <td>0.004938</td>\n",
       "      <td>0.097791</td>\n",
       "      <td>-0.074574</td>\n",
       "      <td>-0.037826</td>\n",
       "      <td>-0.109744</td>\n",
       "      <td>0.058543</td>\n",
       "      <td>-0.054022</td>\n",
       "      <td>-0.107707</td>\n",
       "      <td>-0.004614</td>\n",
       "      <td>0.180871</td>\n",
       "      <td>0.383116</td>\n",
       "      <td>-0.391286</td>\n",
       "      <td>-0.096700</td>\n",
       "      <td>-0.438506</td>\n",
       "      <td>0.004230</td>\n",
       "      <td>1.000000</td>\n",
       "    </tr>\n",
       "  </tbody>\n",
       "</table>\n",
       "</div>"
      ],
      "text/plain": [
       "                                    ID   Park_ID  Direction_Of_Wind  \\\n",
       "ID                            1.000000  0.006604           0.000188   \n",
       "Park_ID                       0.006604  1.000000          -0.011702   \n",
       "Direction_Of_Wind             0.000188 -0.011702           1.000000   \n",
       "Average_Breeze_Speed         -0.019711 -0.254700           0.130190   \n",
       "Max_Breeze_Speed             -0.022828 -0.244308           0.174913   \n",
       "Min_Breeze_Speed             -0.019252 -0.206895           0.053646   \n",
       "Var1                         -0.016422 -0.012029           0.144963   \n",
       "Average_Atmospheric_Pressure  0.013205  0.024007          -0.113537   \n",
       "Max_Atmospheric_Pressure      0.002701  0.023070          -0.096337   \n",
       "Min_Atmospheric_Pressure      0.022042  0.026726          -0.133386   \n",
       "Min_Ambient_Pollution         0.030235 -0.030881           0.044231   \n",
       "Max_Ambient_Pollution        -0.011796  0.041081           0.122890   \n",
       "Average_Moisture_In_Park     -0.046205 -0.039819           0.131413   \n",
       "Max_Moisture_In_Park          0.003539  0.098473           0.108886   \n",
       "Min_Moisture_In_Park         -0.048289 -0.110576           0.110538   \n",
       "Location_Type                -0.020017  0.032950          -0.001736   \n",
       "Footfall                      0.005945  0.004938           0.097791   \n",
       "\n",
       "                              Average_Breeze_Speed  Max_Breeze_Speed  \\\n",
       "ID                                       -0.019711         -0.022828   \n",
       "Park_ID                                  -0.254700         -0.244308   \n",
       "Direction_Of_Wind                         0.130190          0.174913   \n",
       "Average_Breeze_Speed                      1.000000          0.939240   \n",
       "Max_Breeze_Speed                          0.939240          1.000000   \n",
       "Min_Breeze_Speed                          0.879702          0.739617   \n",
       "Var1                                      0.241275          0.280360   \n",
       "Average_Atmospheric_Pressure             -0.338415         -0.360265   \n",
       "Max_Atmospheric_Pressure                 -0.284753         -0.298931   \n",
       "Min_Atmospheric_Pressure                 -0.372108         -0.403972   \n",
       "Min_Ambient_Pollution                     0.287912          0.261887   \n",
       "Max_Ambient_Pollution                     0.029159          0.089219   \n",
       "Average_Moisture_In_Park                 -0.004368         -0.015761   \n",
       "Max_Moisture_In_Park                     -0.294786         -0.242604   \n",
       "Min_Moisture_In_Park                      0.171017          0.122521   \n",
       "Location_Type                            -0.063469         -0.068548   \n",
       "Footfall                                 -0.074574         -0.037826   \n",
       "\n",
       "                              Min_Breeze_Speed      Var1  \\\n",
       "ID                                   -0.019252 -0.016422   \n",
       "Park_ID                              -0.206895 -0.012029   \n",
       "Direction_Of_Wind                     0.053646  0.144963   \n",
       "Average_Breeze_Speed                  0.879702  0.241275   \n",
       "Max_Breeze_Speed                      0.739617  0.280360   \n",
       "Min_Breeze_Speed                      1.000000  0.159921   \n",
       "Var1                                  0.159921  1.000000   \n",
       "Average_Atmospheric_Pressure         -0.262979 -0.373926   \n",
       "Max_Atmospheric_Pressure             -0.228288 -0.329983   \n",
       "Min_Atmospheric_Pressure             -0.280722 -0.387436   \n",
       "Min_Ambient_Pollution                 0.259042 -0.077260   \n",
       "Max_Ambient_Pollution                -0.053827 -0.003581   \n",
       "Average_Moisture_In_Park              0.030279  0.231970   \n",
       "Max_Moisture_In_Park                 -0.302916  0.140922   \n",
       "Min_Moisture_In_Park                  0.207190  0.202088   \n",
       "Location_Type                        -0.042174 -0.004550   \n",
       "Footfall                             -0.109744  0.058543   \n",
       "\n",
       "                              Average_Atmospheric_Pressure  \\\n",
       "ID                                                0.013205   \n",
       "Park_ID                                           0.024007   \n",
       "Direction_Of_Wind                                -0.113537   \n",
       "Average_Breeze_Speed                             -0.338415   \n",
       "Max_Breeze_Speed                                 -0.360265   \n",
       "Min_Breeze_Speed                                 -0.262979   \n",
       "Var1                                             -0.373926   \n",
       "Average_Atmospheric_Pressure                      1.000000   \n",
       "Max_Atmospheric_Pressure                          0.974096   \n",
       "Min_Atmospheric_Pressure                          0.975541   \n",
       "Min_Ambient_Pollution                            -0.038343   \n",
       "Max_Ambient_Pollution                            -0.046624   \n",
       "Average_Moisture_In_Park                         -0.153256   \n",
       "Max_Moisture_In_Park                             -0.050730   \n",
       "Min_Moisture_In_Park                             -0.172049   \n",
       "Location_Type                                     0.004875   \n",
       "Footfall                                         -0.054022   \n",
       "\n",
       "                              Max_Atmospheric_Pressure  \\\n",
       "ID                                            0.002701   \n",
       "Park_ID                                       0.023070   \n",
       "Direction_Of_Wind                            -0.096337   \n",
       "Average_Breeze_Speed                         -0.284753   \n",
       "Max_Breeze_Speed                             -0.298931   \n",
       "Min_Breeze_Speed                             -0.228288   \n",
       "Var1                                         -0.329983   \n",
       "Average_Atmospheric_Pressure                  0.974096   \n",
       "Max_Atmospheric_Pressure                      1.000000   \n",
       "Min_Atmospheric_Pressure                      0.913437   \n",
       "Min_Ambient_Pollution                        -0.044225   \n",
       "Max_Ambient_Pollution                        -0.054715   \n",
       "Average_Moisture_In_Park                     -0.122840   \n",
       "Max_Moisture_In_Park                         -0.038282   \n",
       "Min_Moisture_In_Park                         -0.138939   \n",
       "Location_Type                                 0.005146   \n",
       "Footfall                                     -0.107707   \n",
       "\n",
       "                              Min_Atmospheric_Pressure  Min_Ambient_Pollution  \\\n",
       "ID                                            0.022042               0.030235   \n",
       "Park_ID                                       0.026726              -0.030881   \n",
       "Direction_Of_Wind                            -0.133386               0.044231   \n",
       "Average_Breeze_Speed                         -0.372108               0.287912   \n",
       "Max_Breeze_Speed                             -0.403972               0.261887   \n",
       "Min_Breeze_Speed                             -0.280722               0.259042   \n",
       "Var1                                         -0.387436              -0.077260   \n",
       "Average_Atmospheric_Pressure                  0.975541              -0.038343   \n",
       "Max_Atmospheric_Pressure                      0.913437              -0.044225   \n",
       "Min_Atmospheric_Pressure                      1.000000              -0.041464   \n",
       "Min_Ambient_Pollution                        -0.041464               1.000000   \n",
       "Max_Ambient_Pollution                        -0.047115               0.463705   \n",
       "Average_Moisture_In_Park                     -0.168049              -0.532786   \n",
       "Max_Moisture_In_Park                         -0.057040              -0.627203   \n",
       "Min_Moisture_In_Park                         -0.189426              -0.363822   \n",
       "Location_Type                                 0.005378               0.004319   \n",
       "Footfall                                     -0.004614               0.180871   \n",
       "\n",
       "                              Max_Ambient_Pollution  Average_Moisture_In_Park  \\\n",
       "ID                                        -0.011796                 -0.046205   \n",
       "Park_ID                                    0.041081                 -0.039819   \n",
       "Direction_Of_Wind                          0.122890                  0.131413   \n",
       "Average_Breeze_Speed                       0.029159                 -0.004368   \n",
       "Max_Breeze_Speed                           0.089219                 -0.015761   \n",
       "Min_Breeze_Speed                          -0.053827                  0.030279   \n",
       "Var1                                      -0.003581                  0.231970   \n",
       "Average_Atmospheric_Pressure              -0.046624                 -0.153256   \n",
       "Max_Atmospheric_Pressure                  -0.054715                 -0.122840   \n",
       "Min_Atmospheric_Pressure                  -0.047115                 -0.168049   \n",
       "Min_Ambient_Pollution                      0.463705                 -0.532786   \n",
       "Max_Ambient_Pollution                      1.000000                 -0.560253   \n",
       "Average_Moisture_In_Park                  -0.560253                  1.000000   \n",
       "Max_Moisture_In_Park                      -0.266851                  0.663715   \n",
       "Min_Moisture_In_Park                      -0.614487                  0.907291   \n",
       "Location_Type                              0.030553                 -0.041194   \n",
       "Footfall                                   0.383116                 -0.391286   \n",
       "\n",
       "                              Max_Moisture_In_Park  Min_Moisture_In_Park  \\\n",
       "ID                                        0.003539             -0.048289   \n",
       "Park_ID                                   0.098473             -0.110576   \n",
       "Direction_Of_Wind                         0.108886              0.110538   \n",
       "Average_Breeze_Speed                     -0.294786              0.171017   \n",
       "Max_Breeze_Speed                         -0.242604              0.122521   \n",
       "Min_Breeze_Speed                         -0.302916              0.207190   \n",
       "Var1                                      0.140922              0.202088   \n",
       "Average_Atmospheric_Pressure             -0.050730             -0.172049   \n",
       "Max_Atmospheric_Pressure                 -0.038282             -0.138939   \n",
       "Min_Atmospheric_Pressure                 -0.057040             -0.189426   \n",
       "Min_Ambient_Pollution                    -0.627203             -0.363822   \n",
       "Max_Ambient_Pollution                    -0.266851             -0.614487   \n",
       "Average_Moisture_In_Park                  0.663715              0.907291   \n",
       "Max_Moisture_In_Park                      1.000000              0.401918   \n",
       "Min_Moisture_In_Park                      0.401918              1.000000   \n",
       "Location_Type                             0.003923             -0.058903   \n",
       "Footfall                                 -0.096700             -0.438506   \n",
       "\n",
       "                              Location_Type  Footfall  \n",
       "ID                                -0.020017  0.005945  \n",
       "Park_ID                            0.032950  0.004938  \n",
       "Direction_Of_Wind                 -0.001736  0.097791  \n",
       "Average_Breeze_Speed              -0.063469 -0.074574  \n",
       "Max_Breeze_Speed                  -0.068548 -0.037826  \n",
       "Min_Breeze_Speed                  -0.042174 -0.109744  \n",
       "Var1                              -0.004550  0.058543  \n",
       "Average_Atmospheric_Pressure       0.004875 -0.054022  \n",
       "Max_Atmospheric_Pressure           0.005146 -0.107707  \n",
       "Min_Atmospheric_Pressure           0.005378 -0.004614  \n",
       "Min_Ambient_Pollution              0.004319  0.180871  \n",
       "Max_Ambient_Pollution              0.030553  0.383116  \n",
       "Average_Moisture_In_Park          -0.041194 -0.391286  \n",
       "Max_Moisture_In_Park               0.003923 -0.096700  \n",
       "Min_Moisture_In_Park              -0.058903 -0.438506  \n",
       "Location_Type                      1.000000  0.004230  \n",
       "Footfall                           0.004230  1.000000  "
      ]
     },
     "execution_count": 28,
     "metadata": {},
     "output_type": "execute_result"
    }
   ],
   "source": [
    "train.head(50)\n",
    "train.corr(method='pearson', min_periods=1)\n"
   ]
  },
  {
   "cell_type": "code",
   "execution_count": 21,
   "metadata": {
    "collapsed": false
   },
   "outputs": [
    {
     "data": {
      "text/plain": [
       "<matplotlib.axes._subplots.AxesSubplot at 0x7fa330e55e50>"
      ]
     },
     "execution_count": 21,
     "metadata": {},
     "output_type": "execute_result"
    },
    {
     "data": {
      "image/png": "[encoded data removed]",
      "text/plain": [
       "<matplotlib.figure.Figure at 0x7fa330e556d0>"
      ]
     },
     "metadata": {},
     "output_type": "display_data"
    }
   ],
   "source": [
    "train.Min_Atmospheric_Pressure.hist()\n"
   ]
  },
  {
   "cell_type": "code",
   "execution_count": 40,
   "metadata": {
    "collapsed": false,
    "scrolled": true
   },
   "outputs": [
    {
     "name": "stdout",
     "output_type": "stream",
     "text": [
      "((114539, 18), (39420, 17), (153959, 16))\n"
     ]
    }
   ],
   "source": [
    "df = train\n",
    "df= df.drop(labels='Footfall', axis=1)\n",
    "df= df.append(test, ignore_index=True)\n",
    "df = df.drop('ID', axis=1)\n",
    "\n",
    "print (train.shape, test.shape, df.shape)\n",
    "df = transform_data(df)"
   ]
  },
  {
   "cell_type": "code",
   "execution_count": 51,
   "metadata": {
    "collapsed": false
   },
   "outputs": [
    {
     "data": {
      "text/html": [
       "<div>\n",
       "<table border=\"1\" class=\"dataframe\">\n",
       "  <thead>\n",
       "    <tr style=\"text-align: right;\">\n",
       "      <th></th>\n",
       "      <th>Park_ID</th>\n",
       "      <th>Direction_Of_Wind</th>\n",
       "      <th>Average_Breeze_Speed</th>\n",
       "      <th>Var1</th>\n",
       "      <th>Average_Atmospheric_Pressure</th>\n",
       "      <th>Average_Moisture_In_Park</th>\n",
       "      <th>Location_Type</th>\n",
       "      <th>Month</th>\n",
       "      <th>Day</th>\n",
       "      <th>Diff_Breeze_Speed</th>\n",
       "      <th>Diff_Atmospheric_Pressure</th>\n",
       "      <th>Diff_Ambient_Pollution</th>\n",
       "      <th>Average_Ambient_Pollution</th>\n",
       "      <th>Diff_Moisture_In_Park</th>\n",
       "    </tr>\n",
       "  </thead>\n",
       "  <tbody>\n",
       "    <tr>\n",
       "      <th>0</th>\n",
       "      <td>12</td>\n",
       "      <td>0.537604</td>\n",
       "      <td>0.226131</td>\n",
       "      <td>0.078004</td>\n",
       "      <td>0.400990</td>\n",
       "      <td>0.785714</td>\n",
       "      <td>3</td>\n",
       "      <td>1</td>\n",
       "      <td>9</td>\n",
       "      <td>0.285714</td>\n",
       "      <td>0.123967</td>\n",
       "      <td>0.630952</td>\n",
       "      <td>0.554913</td>\n",
       "      <td>0.261905</td>\n",
       "    </tr>\n",
       "    <tr>\n",
       "      <th>1</th>\n",
       "      <td>12</td>\n",
       "      <td>0.791086</td>\n",
       "      <td>0.195980</td>\n",
       "      <td>0.011947</td>\n",
       "      <td>0.412541</td>\n",
       "      <td>0.771429</td>\n",
       "      <td>3</td>\n",
       "      <td>2</td>\n",
       "      <td>9</td>\n",
       "      <td>0.333333</td>\n",
       "      <td>0.198347</td>\n",
       "      <td>0.476190</td>\n",
       "      <td>0.710983</td>\n",
       "      <td>0.369048</td>\n",
       "    </tr>\n",
       "    <tr>\n",
       "      <th>2</th>\n",
       "      <td>12</td>\n",
       "      <td>0.885794</td>\n",
       "      <td>0.266332</td>\n",
       "      <td>0.030218</td>\n",
       "      <td>0.559406</td>\n",
       "      <td>0.614286</td>\n",
       "      <td>3</td>\n",
       "      <td>3</td>\n",
       "      <td>9</td>\n",
       "      <td>0.285714</td>\n",
       "      <td>0.190083</td>\n",
       "      <td>0.166667</td>\n",
       "      <td>0.745665</td>\n",
       "      <td>0.452381</td>\n",
       "    </tr>\n",
       "    <tr>\n",
       "      <th>3</th>\n",
       "      <td>12</td>\n",
       "      <td>0.824513</td>\n",
       "      <td>0.150754</td>\n",
       "      <td>0.000021</td>\n",
       "      <td>0.655116</td>\n",
       "      <td>0.642857</td>\n",
       "      <td>3</td>\n",
       "      <td>4</td>\n",
       "      <td>9</td>\n",
       "      <td>0.190476</td>\n",
       "      <td>0.096419</td>\n",
       "      <td>0.154762</td>\n",
       "      <td>0.843931</td>\n",
       "      <td>0.273810</td>\n",
       "    </tr>\n",
       "    <tr>\n",
       "      <th>4</th>\n",
       "      <td>12</td>\n",
       "      <td>0.573816</td>\n",
       "      <td>0.170854</td>\n",
       "      <td>0.000703</td>\n",
       "      <td>0.643564</td>\n",
       "      <td>0.685714</td>\n",
       "      <td>3</td>\n",
       "      <td>5</td>\n",
       "      <td>9</td>\n",
       "      <td>0.238095</td>\n",
       "      <td>0.151515</td>\n",
       "      <td>0.285714</td>\n",
       "      <td>0.803468</td>\n",
       "      <td>0.357143</td>\n",
       "    </tr>\n",
       "  </tbody>\n",
       "</table>\n",
       "</div>"
      ],
      "text/plain": [
       "   Park_ID  Direction_Of_Wind  Average_Breeze_Speed      Var1  \\\n",
       "0       12           0.537604              0.226131  0.078004   \n",
       "1       12           0.791086              0.195980  0.011947   \n",
       "2       12           0.885794              0.266332  0.030218   \n",
       "3       12           0.824513              0.150754  0.000021   \n",
       "4       12           0.573816              0.170854  0.000703   \n",
       "\n",
       "   Average_Atmospheric_Pressure  Average_Moisture_In_Park  Location_Type  \\\n",
       "0                      0.400990                  0.785714              3   \n",
       "1                      0.412541                  0.771429              3   \n",
       "2                      0.559406                  0.614286              3   \n",
       "3                      0.655116                  0.642857              3   \n",
       "4                      0.643564                  0.685714              3   \n",
       "\n",
       "   Month  Day  Diff_Breeze_Speed  Diff_Atmospheric_Pressure  \\\n",
       "0      1    9           0.285714                   0.123967   \n",
       "1      2    9           0.333333                   0.198347   \n",
       "2      3    9           0.285714                   0.190083   \n",
       "3      4    9           0.190476                   0.096419   \n",
       "4      5    9           0.238095                   0.151515   \n",
       "\n",
       "   Diff_Ambient_Pollution  Average_Ambient_Pollution  Diff_Moisture_In_Park  \n",
       "0                0.630952                   0.554913               0.261905  \n",
       "1                0.476190                   0.710983               0.369048  \n",
       "2                0.166667                   0.745665               0.452381  \n",
       "3                0.154762                   0.843931               0.273810  \n",
       "4                0.285714                   0.803468               0.357143  "
      ]
     },
     "execution_count": 51,
     "metadata": {},
     "output_type": "execute_result"
    }
   ],
   "source": [
    "df.head()"
   ]
  },
  {
   "cell_type": "code",
   "execution_count": 41,
   "metadata": {
    "collapsed": false
   },
   "outputs": [
    {
     "name": "stdout",
     "output_type": "stream",
     "text": [
      "((114539, 18), (39420, 17), (153959, 14))\n",
      "((114539, 14), (39420, 14), (114539,))\n"
     ]
    }
   ],
   "source": [
    "print (train.shape, test.shape, df.shape)\n",
    "df_train_data = df.ix[0:train.shape[0]-1,]\n",
    "df_train_labels = train['Footfall']\n",
    "df_test_data = df.ix[train.shape[0]:df.shape[0],]\n",
    "target = 'Footfall'\n",
    "print (df_train_data.shape, df_test_data.shape, df_train_labels.shape)"
   ]
  },
  {
   "cell_type": "code",
   "execution_count": 53,
   "metadata": {
    "collapsed": false
   },
   "outputs": [
    {
     "data": {
      "text/html": [
       "<div>\n",
       "<table border=\"1\" class=\"dataframe\">\n",
       "  <thead>\n",
       "    <tr style=\"text-align: right;\">\n",
       "      <th></th>\n",
       "      <th>Park_ID</th>\n",
       "      <th>Direction_Of_Wind</th>\n",
       "      <th>Average_Breeze_Speed</th>\n",
       "      <th>Var1</th>\n",
       "      <th>Average_Atmospheric_Pressure</th>\n",
       "      <th>Average_Moisture_In_Park</th>\n",
       "      <th>Location_Type</th>\n",
       "      <th>Month</th>\n",
       "      <th>Day</th>\n",
       "      <th>Diff_Breeze_Speed</th>\n",
       "      <th>Diff_Atmospheric_Pressure</th>\n",
       "      <th>Diff_Ambient_Pollution</th>\n",
       "      <th>Average_Ambient_Pollution</th>\n",
       "      <th>Diff_Moisture_In_Park</th>\n",
       "    </tr>\n",
       "  </thead>\n",
       "  <tbody>\n",
       "    <tr>\n",
       "      <th>0</th>\n",
       "      <td>12</td>\n",
       "      <td>0.537604</td>\n",
       "      <td>0.226131</td>\n",
       "      <td>0.078004</td>\n",
       "      <td>0.400990</td>\n",
       "      <td>0.785714</td>\n",
       "      <td>3</td>\n",
       "      <td>1</td>\n",
       "      <td>9</td>\n",
       "      <td>0.285714</td>\n",
       "      <td>0.123967</td>\n",
       "      <td>0.630952</td>\n",
       "      <td>0.554913</td>\n",
       "      <td>0.261905</td>\n",
       "    </tr>\n",
       "    <tr>\n",
       "      <th>1</th>\n",
       "      <td>12</td>\n",
       "      <td>0.791086</td>\n",
       "      <td>0.195980</td>\n",
       "      <td>0.011947</td>\n",
       "      <td>0.412541</td>\n",
       "      <td>0.771429</td>\n",
       "      <td>3</td>\n",
       "      <td>2</td>\n",
       "      <td>9</td>\n",
       "      <td>0.333333</td>\n",
       "      <td>0.198347</td>\n",
       "      <td>0.476190</td>\n",
       "      <td>0.710983</td>\n",
       "      <td>0.369048</td>\n",
       "    </tr>\n",
       "    <tr>\n",
       "      <th>2</th>\n",
       "      <td>12</td>\n",
       "      <td>0.885794</td>\n",
       "      <td>0.266332</td>\n",
       "      <td>0.030218</td>\n",
       "      <td>0.559406</td>\n",
       "      <td>0.614286</td>\n",
       "      <td>3</td>\n",
       "      <td>3</td>\n",
       "      <td>9</td>\n",
       "      <td>0.285714</td>\n",
       "      <td>0.190083</td>\n",
       "      <td>0.166667</td>\n",
       "      <td>0.745665</td>\n",
       "      <td>0.452381</td>\n",
       "    </tr>\n",
       "    <tr>\n",
       "      <th>3</th>\n",
       "      <td>12</td>\n",
       "      <td>0.824513</td>\n",
       "      <td>0.150754</td>\n",
       "      <td>0.000021</td>\n",
       "      <td>0.655116</td>\n",
       "      <td>0.642857</td>\n",
       "      <td>3</td>\n",
       "      <td>4</td>\n",
       "      <td>9</td>\n",
       "      <td>0.190476</td>\n",
       "      <td>0.096419</td>\n",
       "      <td>0.154762</td>\n",
       "      <td>0.843931</td>\n",
       "      <td>0.273810</td>\n",
       "    </tr>\n",
       "    <tr>\n",
       "      <th>4</th>\n",
       "      <td>12</td>\n",
       "      <td>0.573816</td>\n",
       "      <td>0.170854</td>\n",
       "      <td>0.000703</td>\n",
       "      <td>0.643564</td>\n",
       "      <td>0.685714</td>\n",
       "      <td>3</td>\n",
       "      <td>5</td>\n",
       "      <td>9</td>\n",
       "      <td>0.238095</td>\n",
       "      <td>0.151515</td>\n",
       "      <td>0.285714</td>\n",
       "      <td>0.803468</td>\n",
       "      <td>0.357143</td>\n",
       "    </tr>\n",
       "  </tbody>\n",
       "</table>\n",
       "</div>"
      ],
      "text/plain": [
       "   Park_ID  Direction_Of_Wind  Average_Breeze_Speed      Var1  \\\n",
       "0       12           0.537604              0.226131  0.078004   \n",
       "1       12           0.791086              0.195980  0.011947   \n",
       "2       12           0.885794              0.266332  0.030218   \n",
       "3       12           0.824513              0.150754  0.000021   \n",
       "4       12           0.573816              0.170854  0.000703   \n",
       "\n",
       "   Average_Atmospheric_Pressure  Average_Moisture_In_Park  Location_Type  \\\n",
       "0                      0.400990                  0.785714              3   \n",
       "1                      0.412541                  0.771429              3   \n",
       "2                      0.559406                  0.614286              3   \n",
       "3                      0.655116                  0.642857              3   \n",
       "4                      0.643564                  0.685714              3   \n",
       "\n",
       "   Month  Day  Diff_Breeze_Speed  Diff_Atmospheric_Pressure  \\\n",
       "0      1    9           0.285714                   0.123967   \n",
       "1      2    9           0.333333                   0.198347   \n",
       "2      3    9           0.285714                   0.190083   \n",
       "3      4    9           0.190476                   0.096419   \n",
       "4      5    9           0.238095                   0.151515   \n",
       "\n",
       "   Diff_Ambient_Pollution  Average_Ambient_Pollution  Diff_Moisture_In_Park  \n",
       "0                0.630952                   0.554913               0.261905  \n",
       "1                0.476190                   0.710983               0.369048  \n",
       "2                0.166667                   0.745665               0.452381  \n",
       "3                0.154762                   0.843931               0.273810  \n",
       "4                0.285714                   0.803468               0.357143  "
      ]
     },
     "execution_count": 53,
     "metadata": {},
     "output_type": "execute_result"
    }
   ],
   "source": [
    "df_train_data.head()"
   ]
  },
  {
   "cell_type": "code",
   "execution_count": 288,
   "metadata": {
    "collapsed": false,
    "scrolled": true
   },
   "outputs": [
    {
     "data": {
      "text/plain": [
       "<matplotlib.collections.PathCollection at 0x7fa318bcaad0>"
      ]
     },
     "execution_count": 288,
     "metadata": {},
     "output_type": "execute_result"
    },
    {
     "data": {
      "image/png": "[encoded data removed]",
      "text/plain": [
       "<matplotlib.figure.Figure at 0x7fa318c31e10>"
      ]
     },
     "metadata": {},
     "output_type": "display_data"
    }
   ],
   "source": [
    "plt.scatter(df_train_data.Direction_Of_Wind, df_train_labels)"
   ]
  },
  {
   "cell_type": "code",
   "execution_count": 48,
   "metadata": {
    "collapsed": true
   },
   "outputs": [],
   "source": [
    "def apply_grid_search(regressor_algo, parameters, data, labels):\n",
    "    result_rmse = []\n",
    "    result_score = []\n",
    "    train_data, tr_test_data, train_labels, tr_test_labels = train_test_split( data, labels, test_size=0.33, random_state=42)\n",
    "    reg = regressor_algo\n",
    "    grid_search = GridSearchCV(reg, parameters, n_jobs=-1, verbose=1)\n",
    "\n",
    "    print(\"Performing grid search...\")\n",
    "    print(\"parameters:\")\n",
    "    print(parameters)\n",
    "    grid_search.fit(train_data, train_labels)\n",
    "    print()\n",
    "\n",
    "    print(\"Best score: %0.3f\" % grid_search.best_score_)\n",
    "    print(\"Best parameters set:\")\n",
    "    best_parameters = grid_search.best_estimator_.get_params()\n",
    "    for param_name in sorted(parameters.keys()):\n",
    "        print(\"\\t%s: %r\" % (param_name, best_parameters[param_name]))\n",
    "\n",
    "    best_est= grid_search.best_estimator_    \n",
    "    predicted_labels = best_est.predict(tr_test_data)\n",
    "    error = np.sqrt(metrics.mean_squared_error(tr_test_labels,predicted_labels))\n",
    "    result_rmse.append(error)\n",
    "    result_score.append(best_est.score(tr_test_data, tr_test_labels))\n",
    "\n",
    "    return ( result_rmse, result_score, best_est )"
   ]
  },
  {
   "cell_type": "code",
   "execution_count": 47,
   "metadata": {
    "collapsed": false
   },
   "outputs": [
    {
     "name": "stdout",
     "output_type": "stream",
     "text": [
      "Performing grid search...\n",
      "parameters:\n",
      "{'n_estimators': [100, 250, 500], 'learning_rate': [0.1, 0.05, 0.01], 'max_depth': [3, 5, 7, 10]}\n",
      "Fitting 3 folds for each of 36 candidates, totalling 108 fits\n"
     ]
    },
    {
     "name": "stderr",
     "output_type": "stream",
     "text": [
      "[Parallel(n_jobs=-1)]: Done  42 tasks      | elapsed:  4.3min\n",
      "[Parallel(n_jobs=-1)]: Done 108 out of 108 | elapsed: 16.0min finished\n"
     ]
    },
    {
     "name": "stdout",
     "output_type": "stream",
     "text": [
      "()\n",
      "Best score: 0.919\n",
      "Best parameters set:\n",
      "\tlearning_rate: 0.1\n",
      "\tmax_depth: 10\n",
      "\tn_estimators: 500\n"
     ]
    },
    {
     "ename": "NameError",
     "evalue": "global name 'math' is not defined",
     "output_type": "error",
     "traceback": [
      "\u001b[1;31m---------------------------------------------------------------------------\u001b[0m",
      "\u001b[1;31mNameError\u001b[0m                                 Traceback (most recent call last)",
      "\u001b[1;32m<ipython-input-47-f40113fc57d6>\u001b[0m in \u001b[0;36m<module>\u001b[1;34m()\u001b[0m\n\u001b[0;32m      3\u001b[0m                \u001b[1;34m'learning_rate'\u001b[0m \u001b[1;33m:\u001b[0m \u001b[1;33m[\u001b[0m\u001b[1;36m0.1\u001b[0m\u001b[1;33m,\u001b[0m \u001b[1;36m0.05\u001b[0m\u001b[1;33m,\u001b[0m \u001b[1;36m0.01\u001b[0m\u001b[1;33m]\u001b[0m\u001b[1;33m\u001b[0m\u001b[0m\n\u001b[0;32m      4\u001b[0m              }\n\u001b[1;32m----> 5\u001b[1;33m \u001b[0mgridSearch_rmse_\u001b[0m\u001b[1;33m,\u001b[0m \u001b[0mgridSearch_score_\u001b[0m\u001b[1;33m,\u001b[0m \u001b[0mbestEstimator_\u001b[0m \u001b[1;33m=\u001b[0m \u001b[0mapply_grid_search\u001b[0m\u001b[1;33m(\u001b[0m\u001b[0mxgb\u001b[0m\u001b[1;33m.\u001b[0m\u001b[0mXGBRegressor\u001b[0m\u001b[1;33m(\u001b[0m\u001b[1;33m)\u001b[0m\u001b[1;33m,\u001b[0m                                                                         \u001b[0mparam_grid_\u001b[0m\u001b[1;33m,\u001b[0m \u001b[0mdf_train_data\u001b[0m\u001b[1;33m,\u001b[0m \u001b[0mdf_train_labels\u001b[0m\u001b[1;33m)\u001b[0m\u001b[1;33m\u001b[0m\u001b[0m\n\u001b[0m",
      "\u001b[1;32m<ipython-input-46-46864d50a5b4>\u001b[0m in \u001b[0;36mapply_grid_search\u001b[1;34m(regressor_algo, parameters, data, labels)\u001b[0m\n\u001b[0;32m     20\u001b[0m     \u001b[0mbest_est\u001b[0m\u001b[1;33m=\u001b[0m \u001b[0mgrid_search\u001b[0m\u001b[1;33m.\u001b[0m\u001b[0mbest_estimator_\u001b[0m\u001b[1;33m\u001b[0m\u001b[0m\n\u001b[0;32m     21\u001b[0m     \u001b[0mpredicted_labels\u001b[0m \u001b[1;33m=\u001b[0m \u001b[0mbest_est\u001b[0m\u001b[1;33m.\u001b[0m\u001b[0mpredict\u001b[0m\u001b[1;33m(\u001b[0m\u001b[0mtr_test_data\u001b[0m\u001b[1;33m)\u001b[0m\u001b[1;33m\u001b[0m\u001b[0m\n\u001b[1;32m---> 22\u001b[1;33m     \u001b[0merror\u001b[0m \u001b[1;33m=\u001b[0m \u001b[0mmath\u001b[0m\u001b[1;33m.\u001b[0m\u001b[0msqrt\u001b[0m\u001b[1;33m(\u001b[0m\u001b[0mmetrics\u001b[0m\u001b[1;33m.\u001b[0m\u001b[0mmean_squared_error\u001b[0m\u001b[1;33m(\u001b[0m\u001b[0mtr_test_labels\u001b[0m\u001b[1;33m,\u001b[0m\u001b[0mpredicted_labels\u001b[0m\u001b[1;33m)\u001b[0m\u001b[1;33m)\u001b[0m\u001b[1;33m\u001b[0m\u001b[0m\n\u001b[0m\u001b[0;32m     23\u001b[0m     \u001b[0mresult_rmse\u001b[0m\u001b[1;33m.\u001b[0m\u001b[0mappend\u001b[0m\u001b[1;33m(\u001b[0m\u001b[0merror\u001b[0m\u001b[1;33m)\u001b[0m\u001b[1;33m\u001b[0m\u001b[0m\n\u001b[0;32m     24\u001b[0m     \u001b[0mresult_score\u001b[0m\u001b[1;33m.\u001b[0m\u001b[0mappend\u001b[0m\u001b[1;33m(\u001b[0m\u001b[0mbest_est\u001b[0m\u001b[1;33m.\u001b[0m\u001b[0mscore\u001b[0m\u001b[1;33m(\u001b[0m\u001b[0mtr_test_data\u001b[0m\u001b[1;33m,\u001b[0m \u001b[0mtr_test_labels\u001b[0m\u001b[1;33m)\u001b[0m\u001b[1;33m)\u001b[0m\u001b[1;33m\u001b[0m\u001b[0m\n",
      "\u001b[1;31mNameError\u001b[0m: global name 'math' is not defined"
     ]
    }
   ],
   "source": [
    "param_grid_ = {'max_depth': [3, 5, 7, 10],\n",
    "              'n_estimators' : [100, 250, 500],\n",
    "               'learning_rate' : [0.1, 0.05, 0.01]\n",
    "             }\n",
    "gridSearch_rmse_, gridSearch_score_, bestEstimator_ = apply_grid_search(xgb.XGBRegressor(), \\\n",
    "                                                                        param_grid_, df_train_data, df_train_labels)\n"
   ]
  },
  {
   "cell_type": "code",
   "execution_count": 44,
   "metadata": {
    "collapsed": false
   },
   "outputs": [
    {
     "name": "stdout",
     "output_type": "stream",
     "text": [
      "[64.092687604766667, 62.878507951790738, 63.764818315551786, 64.251997468273885, 63.890284912411943, 63.287420306233876, 63.647491807569864, 63.088171384144125, 63.57911871906105, 63.507937126907578]\n",
      "('mean rmse: ', 63.598843559671153)\n"
     ]
    }
   ],
   "source": [
    "data = df_train_data\n",
    "labels = df_train_labels\n",
    "params = bestEstimator_.get_params()\n",
    "result_rmse = []\n",
    "cv = KFold(len(data), n_folds=10, shuffle=False, random_state=None)\n",
    "#gb1 = GradientBoostingRegressor( n_estimators = 200, max_depth = 10, learning_rate = 0.01) #BestTillNow \n",
    "gb1 = xgb.XGBRegressor(**params)\n",
    "for trainindex, testindex in cv:\n",
    "    randomindexs = np.random.permutation(len(data))\n",
    "    data = data.iloc[randomindexs]\n",
    "    labels = labels.iloc[randomindexs]\n",
    "    train_data = data.iloc[trainindex]\n",
    "    train_labels = labels.iloc[trainindex]\n",
    "    tr_test_data = data.iloc[testindex]\n",
    "    tr_test_labels = labels.iloc[testindex]\n",
    "\n",
    "    gb1.fit(train_data, train_labels)\n",
    "    predicted_labels = gb1.predict(tr_test_data)\n",
    "    rmse= np.sqrt(metrics.mean_squared_error(tr_test_labels, predicted_labels))\n",
    "    result_rmse.append(rmse)\n",
    "\n",
    "print (result_rmse)\n",
    "print ('mean rmse: ', np.mean(result_rmse))\n"
   ]
  },
  {
   "cell_type": "code",
   "execution_count": 42,
   "metadata": {
    "collapsed": false
   },
   "outputs": [
    {
     "name": "stdout",
     "output_type": "stream",
     "text": [
      "65.842814416\n"
     ]
    }
   ],
   "source": [
    "# split into a training and testing set\n",
    "X_train, X_test, y_train, y_test = train_test_split( df_train_data, df_train_labels, test_size=0.25, random_state=42) \n",
    "gb1 = xgb.XGBRegressor(max_depth=10, learning_rate=0.1, n_estimators = 500)\n",
    "#gb1 = GradientBoostingRegressor( n_estimators = 500, max_depth = 10, learning_rate = 0.01)\n",
    "gb1.fit(X_train, y_train)\n",
    "predicted_labels = gb1.predict(X_test)\n",
    "rmse= np.sqrt(metrics.mean_squared_error(y_test, predicted_labels))\n",
    "print rmse"
   ]
  },
  {
   "cell_type": "code",
   "execution_count": 55,
   "metadata": {
    "collapsed": false
   },
   "outputs": [
    {
     "data": {
      "text/plain": [
       "<matplotlib.axes._subplots.AxesSubplot at 0x7fb0ec086b10>"
      ]
     },
     "execution_count": 55,
     "metadata": {},
     "output_type": "execute_result"
    },
    {
     "data": {
      "image/png": "[encoded data removed]",
      "text/plain": [
       "<matplotlib.figure.Figure at 0x7fb0ec09a610>"
      ]
     },
     "metadata": {},
     "output_type": "display_data"
    }
   ],
   "source": [
    "xgb.plot_importance(gb1)"
   ]
  },
  {
   "cell_type": "code",
   "execution_count": 56,
   "metadata": {
    "collapsed": false,
    "scrolled": true
   },
   "outputs": [],
   "source": [
    "predictions = pd.DataFrame(gb1.predict(df_test_data))\n",
    "results = pd.DataFrame();\n",
    "results['ID'] = test['ID']\n",
    "results['Footfall'] = np.round(predictions)\n",
    "timestr = time.strftime(\"%Y%m%d-%H%M%S\")\n",
    "results.to_csv('submission' + timestr + \".csv\", index=False)"
   ]
  }
 ],
 "metadata": {
  "kernelspec": {
   "display_name": "Python [Root]",
   "language": "python",
   "name": "Python [Root]"
  },
  "language_info": {
   "codemirror_mode": {
    "name": "ipython",
    "version": 2
   },
   "file_extension": ".py",
   "mimetype": "text/x-python",
   "name": "python",
   "nbconvert_exporter": "python",
   "pygments_lexer": "ipython2",
   "version": "2.7.12"
  }
 },
 "nbformat": 4,
 "nbformat_minor": 0
}
